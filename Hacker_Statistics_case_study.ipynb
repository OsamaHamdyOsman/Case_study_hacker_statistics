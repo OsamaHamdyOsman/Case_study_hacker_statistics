{
 "cells": [
  {
   "cell_type": "markdown",
   "metadata": {},
   "source": [
    "# Case Study: Hacker Statistics\n",
    "\n",
    "This chapter is the last in Intermediate Python for Data science. It blends together everything i've learned up to now. I will use hacker statistics to calculate your chances of winning a bet. Use random number generators, loops and matplotlib to get the competitive edge!\n",
    "\n",
    "## Context\n",
    "> * Imagine this situation. You are walking up the empire state building and you're playing a game with a friend. For 100 times you throw a dice, if it's 1 or 2 you go one step down. If it's 3, 4 or 5 you go one step up. Finally, if you throw a 6 you throw the dice again and will walk the resulting number of eyes up. \n",
    "> * You go lower than step zero.\n",
    "> * You admit that you are a bit clumsy and have a chnace of 0.1 % of falling down the stairs when you make a move. Falling down means that you have to start again from step 0. \n",
    "\n",
    "With all of that in mind you bet with your friend that's you will reach 60 steps high.\n",
    "\n",
    "## Question\n",
    "**_What is the chance that you will win this bet?_**\n",
    "\n",
    "## How to solve?\n",
    "The process will be simulated thousands of times and determine in what fraction of the simulations that you will reach 60 steps.\n",
    "This is a form of hacker statistics. "
   ]
  },
  {
   "cell_type": "markdown",
   "metadata": {},
   "source": [
    "### Step 1: Random Generators to simulate the dice\n",
    "- Through creating the so called pseudo-random numbersstarting from a random seed. We are going to set the seed manually to 123 to ensure reproducibility. Upon running different versions of the same algorithim, we know that they are using the same random numbers so we can make a fair comparison between these versions. "
   ]
  },
  {
   "cell_type": "code",
   "execution_count": 2,
   "metadata": {},
   "outputs": [],
   "source": [
    "import numpy as np\n"
   ]
  },
  {
   "cell_type": "code",
   "execution_count": 8,
   "metadata": {},
   "outputs": [
    {
     "data": {
      "text/plain": [
       "6"
      ]
     },
     "execution_count": 8,
     "metadata": {},
     "output_type": "execute_result"
    }
   ],
   "source": [
    "#setting the seed to (123)\n",
    "np.random.seed(123)\n",
    "# Use randint() to simulate a dice\n",
    "np.random.randint(1,7)"
   ]
  },
  {
   "cell_type": "code",
   "execution_count": 9,
   "metadata": {},
   "outputs": [
    {
     "data": {
      "text/plain": [
       "3"
      ]
     },
     "execution_count": 9,
     "metadata": {},
     "output_type": "execute_result"
    }
   ],
   "source": [
    "np.random.randint(1,7)"
   ]
  },
  {
   "cell_type": "markdown",
   "metadata": {},
   "source": [
    "### Step 2 : Determine your next move\n",
    "- In the Empire State Building bet, your next move depends on the number of eyes you throw with the dice. We can perfectly code this with an if-elif-else construct!"
   ]
  },
  {
   "cell_type": "code",
   "execution_count": 11,
   "metadata": {},
   "outputs": [
    {
     "name": "stdout",
     "output_type": "stream",
     "text": [
      "number of eyes: 3\n",
      "Steps updated: 11\n"
     ]
    }
   ],
   "source": [
    "# let's assume that you're currently at step 10\n",
    "step = 10\n",
    "\n",
    "# Roll the dice\n",
    "dice = np.random.randint(1,7)\n",
    "\n",
    "# The control construct\n",
    "if dice <= 2: \n",
    "    #If dice is 1 or 2, you go one step down.\n",
    "    step -= 1\n",
    "elif dice < 6:\n",
    "    # if dice is 3, 4 or 5, you go one step up.\n",
    "    step += 1\n",
    "else:\n",
    "    # Else, you throw the dice again. The number of eyes is the number of steps you go up.\n",
    "    step = step + np.random.randint(1,7)\n",
    "    \n",
    "# Print out dice and step\n",
    "print(\"number of eyes: \" + str(dice))\n",
    "print(\"Steps updated: \" + str(step))    "
   ]
  },
  {
   "cell_type": "markdown",
   "metadata": {},
   "source": [
    "### Step 3: Simulate a Random Walk\n",
    "* If you use a dice to determine your next step, we can call this a random step. What if you use a dice 100 times to determine your next step? You would have a succession of random steps or in other words **_a random walk_**. This is a well known concept in science. For example, the path traced by a molecule as it travels through a liquid or gas can be **modeled** as a random walk. Financial status of a gambler is another example.\n",
    "* To record every step in a random walk, you need to learn how to gradually build a list with a for loop. "
   ]
  },
  {
   "cell_type": "code",
   "execution_count": 12,
   "metadata": {},
   "outputs": [
    {
     "name": "stdout",
     "output_type": "stream",
     "text": [
      "[0, -1, 0, 1, 2, 1, 0, -1, -2, -3, -4, -5, -6, -5, 0, -1, -2, -1, -2, -1, 0, 1, 2, 3, 2, 3, 2, 3, 4, 5, 6, 5, 9, 10, 9, 10, 9, 10, 11, 12, 13, 14, 15, 16, 19, 20, 21, 22, 27, 28, 32, 33, 32, 33, 34, 33, 34, 35, 37, 38, 39, 38, 37, 38, 39, 38, 37, 38, 39, 41, 40, 39, 40, 39, 40, 41, 42, 44, 43, 44, 45, 46, 47, 48, 47, 46, 47, 46, 47, 48, 47, 50, 51, 52, 53, 52, 53, 54, 58, 57, 56]\n"
     ]
    }
   ],
   "source": [
    "# Initialize random_walk\n",
    "random_walk = [0]\n",
    "\n",
    "for s in range(100):\n",
    "    # Set step: last element in random_walk\n",
    "    step = random_walk[-1]\n",
    "    \n",
    "    # Roll the dice\n",
    "    dice = np.random.randint(1,7)\n",
    "    \n",
    "    # detrmine the next step\n",
    "    if dice <= 2: \n",
    "    #If dice is 1 or 2, you go one step down.  Replace below: use max to make sure step can't go below 0\n",
    "        step = max(0, step-1)\n",
    "    elif dice < 6:\n",
    "    # if dice is 3, 4 or 5, you go one step up.\n",
    "        step += 1\n",
    "    else:\n",
    "    # Else, you throw the dice again. The number of eyes is the number of steps you go up.\n",
    "        step = step + np.random.randint(1,7)\n",
    "    \n",
    "    # append next_step to random_walk\n",
    "    random_walk.append(step)\n",
    "    \n",
    "print(random_walk)"
   ]
  }
 ],
 "metadata": {
  "kernelspec": {
   "display_name": "Python 3",
   "language": "python",
   "name": "python3"
  },
  "language_info": {
   "codemirror_mode": {
    "name": "ipython",
    "version": 3
   },
   "file_extension": ".py",
   "mimetype": "text/x-python",
   "name": "python",
   "nbconvert_exporter": "python",
   "pygments_lexer": "ipython3",
   "version": "3.7.3"
  }
 },
 "nbformat": 4,
 "nbformat_minor": 2
}
