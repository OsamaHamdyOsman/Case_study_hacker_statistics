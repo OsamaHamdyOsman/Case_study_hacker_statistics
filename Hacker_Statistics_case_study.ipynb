{
 "cells": [
  {
   "cell_type": "markdown",
   "metadata": {},
   "source": [
    "# Case Study: Hacker Statistics\n",
    "\n",
    "This chapter is the last in Intermediate Python for Data science. It blends together everything i've learned up to now. I will use hacker statistics to calculate your chances of winning a bet. Use random number generators, loops and matplotlib to get the competitive edge!\n",
    "\n",
    "## Context\n",
    "> * Imagine this situation. You are walking up the empire state building and you're playing a game with a friend. For 100 times you throw a dice, if it's 1 or 2 you go one step down. If it's 3, 4 or 5 you go one step up. Finally, if you throw a 6 you throw the dice again and will walk the resulting number of eyes up. \n",
    "> * You go lower than step zero.\n",
    "> * You admit that you are a bit clumsy and have a chnace of 0.1 % of falling down the stairs when you make a move. Falling down means that you have to start again from step 0. \n",
    "\n",
    "With all of that in mind you bet with your friend that's you will reach 60 steps high.\n",
    "\n",
    "## Question\n",
    "**_What is the chance that you will win this bet?_**\n",
    "\n",
    "## How to solve?\n",
    "The process will be simulated thousands of times and determine in what fraction of the simulations that you will reach 60 steps.\n",
    "This is a form of hacker statistics. "
   ]
  },
  {
   "cell_type": "markdown",
   "metadata": {},
   "source": [
    "### Step 1: Random Generators to simulate the dice\n",
    "- Through creating the so called pseudo-random numbersstarting from a random seed. We are going to set the seed manually to 123 to ensure reproducibility. Upon running different versions of the same algorithim, we know that they are using the same random numbers so we can make a fair comparison between these versions. "
   ]
  },
  {
   "cell_type": "code",
   "execution_count": 2,
   "metadata": {},
   "outputs": [],
   "source": [
    "import numpy as np\n"
   ]
  },
  {
   "cell_type": "code",
   "execution_count": 8,
   "metadata": {},
   "outputs": [
    {
     "data": {
      "text/plain": [
       "6"
      ]
     },
     "execution_count": 8,
     "metadata": {},
     "output_type": "execute_result"
    }
   ],
   "source": [
    "#setting the seed to (123)\n",
    "np.random.seed(123)\n",
    "# Use randint() to simulate a dice\n",
    "np.random.randint(1,7)"
   ]
  },
  {
   "cell_type": "code",
   "execution_count": 9,
   "metadata": {},
   "outputs": [
    {
     "data": {
      "text/plain": [
       "3"
      ]
     },
     "execution_count": 9,
     "metadata": {},
     "output_type": "execute_result"
    }
   ],
   "source": [
    "np.random.randint(1,7)"
   ]
  },
  {
   "cell_type": "markdown",
   "metadata": {},
   "source": [
    "### Step 2 : Determine your next move\n",
    "- In the Empire State Building bet, your next move depends on the number of eyes you throw with the dice. We can perfectly code this with an if-elif-else construct!"
   ]
  },
  {
   "cell_type": "code",
   "execution_count": 11,
   "metadata": {},
   "outputs": [
    {
     "name": "stdout",
     "output_type": "stream",
     "text": [
      "number of eyes: 3\n",
      "Steps updated: 11\n"
     ]
    }
   ],
   "source": [
    "# let's assume that you're currently at step 10\n",
    "step = 10\n",
    "\n",
    "# Roll the dice\n",
    "dice = np.random.randint(1,7)\n",
    "\n",
    "# The control construct\n",
    "\n",
    "if dice <= 2: \n",
    "    #If dice is 1 or 2, you go one step down.\n",
    "    step -= 1\n",
    "elif dice < 6:\n",
    "    # if dice is 3, 4 or 5, you go one step up.\n",
    "    step += 1\n",
    "else:\n",
    "    # Else, you throw the dice again. The number of eyes is the number of steps you go up.\n",
    "    step = step + np.random.randint(1,7)\n",
    "    \n",
    "# Print out dice and step\n",
    "print(\"number of eyes: \" + str(dice))\n",
    "print(\"Steps updated: \" + str(step))    "
   ]
  }
 ],
 "metadata": {
  "kernelspec": {
   "display_name": "Python 3",
   "language": "python",
   "name": "python3"
  },
  "language_info": {
   "codemirror_mode": {
    "name": "ipython",
    "version": 3
   },
   "file_extension": ".py",
   "mimetype": "text/x-python",
   "name": "python",
   "nbconvert_exporter": "python",
   "pygments_lexer": "ipython3",
   "version": "3.7.3"
  }
 },
 "nbformat": 4,
 "nbformat_minor": 2
}
